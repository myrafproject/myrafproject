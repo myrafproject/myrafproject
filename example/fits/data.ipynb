{
 "cells": [
  {
   "metadata": {
    "ExecuteTime": {
     "end_time": "2024-09-13T11:47:23.399600Z",
     "start_time": "2024-09-13T11:47:23.395034Z"
    }
   },
   "cell_type": "code",
   "source": [
    "import warnings\n",
    "warnings.filterwarnings('ignore')"
   ],
   "id": "1e5f57bb40fec37e",
   "outputs": [],
   "execution_count": 1
  },
  {
   "metadata": {},
   "cell_type": "markdown",
   "source": [
    "# Data\n",
    "\n",
    "The `Fits` object does not provide a method to directly alter the data. However, it offers several methods to retrieve the data."
   ],
   "id": "98d20a4dd95b357f"
  },
  {
   "metadata": {
    "ExecuteTime": {
     "end_time": "2024-09-13T11:47:24.730919Z",
     "start_time": "2024-09-13T11:47:23.439480Z"
    }
   },
   "cell_type": "code",
   "source": [
    "from myraflib import Fits\n",
    "\n",
    "fits = Fits.sample()\n",
    "fits"
   ],
   "id": "179c963168caa817",
   "outputs": [
    {
     "data": {
      "text/plain": [
       "Fits(@: '129572581417664', path:'/tmp/myraf_0dse0evw.fits')"
      ]
     },
     "execution_count": 2,
     "metadata": {},
     "output_type": "execute_result"
    }
   ],
   "execution_count": 2
  },
  {
   "metadata": {},
   "cell_type": "markdown",
   "source": [
    "## data\n",
    "\n",
    "The `data` method returns the digital image data as a `numpy.ndarray`."
   ],
   "id": "3f2d6b9aabe165b"
  },
  {
   "metadata": {
    "ExecuteTime": {
     "end_time": "2024-09-13T11:47:24.800249Z",
     "start_time": "2024-09-13T11:47:24.793629Z"
    }
   },
   "cell_type": "code",
   "source": "fits.data()",
   "id": "38ecae7302b2accf",
   "outputs": [
    {
     "data": {
      "text/plain": [
       "array([[ 7201.,  6642.,  6642., ...,  9498.,  9498., 10057.],\n",
       "       [ 6642.,  6363.,  6642., ..., 10057., 10616., 10616.],\n",
       "       [ 6922.,  6642.,  6922., ..., 10337., 11175., 10616.],\n",
       "       ...,\n",
       "       [ 5412.,  5132.,  5412., ..., 13000., 12580., 12021.],\n",
       "       [ 5796.,  5517.,  5796., ..., 12546., 12546., 11987.],\n",
       "       [ 5796.,  5796.,  6076., ..., 11987., 12546., 12546.]])"
      ]
     },
     "execution_count": 3,
     "metadata": {},
     "output_type": "execute_result"
    }
   ],
   "execution_count": 3
  },
  {
   "metadata": {},
   "cell_type": "markdown",
   "source": [
    "## value\n",
    "\n",
    "The `value` method returns the value of a specified pixel."
   ],
   "id": "80c009ca486392d8"
  },
  {
   "metadata": {
    "ExecuteTime": {
     "end_time": "2024-09-13T11:47:24.848841Z",
     "start_time": "2024-09-13T11:47:24.841372Z"
    }
   },
   "cell_type": "code",
   "source": "fits.value(0, 0)",
   "id": "b3c7d9e42b07fe80",
   "outputs": [
    {
     "data": {
      "text/plain": [
       "7201.0"
      ]
     },
     "execution_count": 4,
     "metadata": {},
     "output_type": "execute_result"
    }
   ],
   "execution_count": 4
  },
  {
   "metadata": {},
   "cell_type": "markdown",
   "source": [
    "## ccd\n",
    "\n",
    "The `ccd` method returns a `CCDData` object representing the specified FITS data."
   ],
   "id": "4d5e41fbae1f3221"
  },
  {
   "metadata": {
    "ExecuteTime": {
     "end_time": "2024-09-13T11:47:24.943993Z",
     "start_time": "2024-09-13T11:47:24.930147Z"
    }
   },
   "cell_type": "code",
   "source": "fits.ccd()",
   "id": "6e7f26fae546453c",
   "outputs": [
    {
     "data": {
      "text/plain": [
       "CCDData([[ 7201,  6642,  6642, ...,  9498,  9498, 10057],\n",
       "         [ 6642,  6363,  6642, ..., 10057, 10616, 10616],\n",
       "         [ 6922,  6642,  6922, ..., 10337, 11175, 10616],\n",
       "         ...,\n",
       "         [ 5412,  5132,  5412, ..., 13000, 12580, 12021],\n",
       "         [ 5796,  5517,  5796, ..., 12546, 12546, 11987],\n",
       "         [ 5796,  5796,  6076, ..., 11987, 12546, 12546]],\n",
       "        dtype=uint16, unit='adu')"
      ]
     },
     "execution_count": 5,
     "metadata": {},
     "output_type": "execute_result"
    }
   ],
   "execution_count": 5
  },
  {
   "metadata": {
    "ExecuteTime": {
     "end_time": "2024-09-13T11:47:25.193625Z",
     "start_time": "2024-09-13T11:47:25.192247Z"
    }
   },
   "cell_type": "code",
   "source": "",
   "id": "334edbcff8e68cdb",
   "outputs": [],
   "execution_count": null
  }
 ],
 "metadata": {
  "kernelspec": {
   "display_name": "Python 3",
   "language": "python",
   "name": "python3"
  },
  "language_info": {
   "codemirror_mode": {
    "name": "ipython",
    "version": 2
   },
   "file_extension": ".py",
   "mimetype": "text/x-python",
   "name": "python",
   "nbconvert_exporter": "python",
   "pygments_lexer": "ipython2",
   "version": "2.7.6"
  }
 },
 "nbformat": 4,
 "nbformat_minor": 5
}
