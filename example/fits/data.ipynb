{
 "cells": [
  {
   "cell_type": "code",
   "execution_count": 1,
   "id": "576030ee-dca4-477e-bc62-e385e2816c51",
   "metadata": {},
   "outputs": [
    {
     "data": {
      "text/plain": [
       "Fits(@: '129191194869872', path:'/tmp/spy_tl8ku4ll.fits')"
      ]
     },
     "execution_count": 1,
     "metadata": {},
     "output_type": "execute_result"
    }
   ],
   "source": [
    "from myraflib import Fits\n",
    "\n",
    "fits = Fits.sample()\n",
    "fits"
   ]
  },
  {
   "cell_type": "markdown",
   "id": "8ba15683-fb4f-4335-90f0-45095f649c28",
   "metadata": {},
   "source": [
    "# Get Data\n",
    "## data\n",
    "A `Fits` object can obtain data from a fits file as a `numpy` `ndarray`"
   ]
  },
  {
   "cell_type": "code",
   "execution_count": 2,
   "id": "83b167ba-8928-40a8-a287-941f20ceba66",
   "metadata": {},
   "outputs": [
    {
     "data": {
      "text/plain": [
       "array([[ 7201.,  6642.,  6642., ...,  9498.,  9498., 10057.],\n",
       "       [ 6642.,  6363.,  6642., ..., 10057., 10616., 10616.],\n",
       "       [ 6922.,  6642.,  6922., ..., 10337., 11175., 10616.],\n",
       "       ...,\n",
       "       [ 5412.,  5132.,  5412., ..., 13000., 12580., 12021.],\n",
       "       [ 5796.,  5517.,  5796., ..., 12546., 12546., 11987.],\n",
       "       [ 5796.,  5796.,  6076., ..., 11987., 12546., 12546.]])"
      ]
     },
     "execution_count": 2,
     "metadata": {},
     "output_type": "execute_result"
    }
   ],
   "source": [
    "data = fits.data()\n",
    "data"
   ]
  },
  {
   "cell_type": "markdown",
   "id": "b97033b2-bf47-43f8-ad2c-e87d992e9d3c",
   "metadata": {},
   "source": [
    "## ccd\n",
    "A `Fits` object can obtain data from a fits file as a `CCDData`"
   ]
  },
  {
   "cell_type": "code",
   "execution_count": 3,
   "id": "210c7912-d610-4349-8ce9-9218473dbe62",
   "metadata": {},
   "outputs": [
    {
     "name": "stderr",
     "output_type": "stream",
     "text": [
      "WARNING: FITSFixedWarning: 'datfix' made the change 'Set MJD-OBS to 48247.575694 from DATE-OBS'. [astropy.wcs.wcs]\n"
     ]
    },
    {
     "data": {
      "text/plain": [
       "CCDData([[ 7201,  6642,  6642, ...,  9498,  9498, 10057],\n",
       "         [ 6642,  6363,  6642, ..., 10057, 10616, 10616],\n",
       "         [ 6922,  6642,  6922, ..., 10337, 11175, 10616],\n",
       "         ...,\n",
       "         [ 5412,  5132,  5412, ..., 13000, 12580, 12021],\n",
       "         [ 5796,  5517,  5796, ..., 12546, 12546, 11987],\n",
       "         [ 5796,  5796,  6076, ..., 11987, 12546, 12546]], unit='adu')"
      ]
     },
     "execution_count": 3,
     "metadata": {},
     "output_type": "execute_result"
    }
   ],
   "source": [
    "ccd_data = fits.ccd()\n",
    "ccd_data"
   ]
  },
  {
   "cell_type": "markdown",
   "id": "eed6f7c2-4c54-4650-8274-ca8200749936",
   "metadata": {},
   "source": [
    "## background\n",
    "A `Fits` object can obtain data from a fits file as a `Background`"
   ]
  },
  {
   "cell_type": "code",
   "execution_count": 4,
   "id": "bf112114-0abe-4283-95fe-f02412153daa",
   "metadata": {},
   "outputs": [
    {
     "data": {
      "text/plain": [
       "<sep.Background at 0x757faaf7f610>"
      ]
     },
     "execution_count": 4,
     "metadata": {},
     "output_type": "execute_result"
    }
   ],
   "source": [
    "background = fits.background()\n",
    "background"
   ]
  },
  {
   "cell_type": "code",
   "execution_count": 5,
   "id": "8278591e-2e55-431c-a7b8-66a8423cb807",
   "metadata": {},
   "outputs": [
    {
     "data": {
      "text/plain": [
       "array([[403.66522217, 404.60955811, 405.55728149, ..., 584.59802246,\n",
       "        584.52514648, 584.45123291],\n",
       "       [404.11950684, 405.05651855, 405.99700928, ..., 584.56964111,\n",
       "        584.49890137, 584.42718506],\n",
       "       [404.57397461, 405.50375366, 406.43682861, ..., 584.54016113,\n",
       "        584.47155762, 584.40209961],\n",
       "       ...,\n",
       "       [461.93115234, 461.54785156, 461.16131592, ..., 577.2779541 ,\n",
       "        577.73950195, 578.16937256],\n",
       "       [463.2833252 , 462.88555908, 462.48443604, ..., 577.34204102,\n",
       "        577.80944824, 578.24468994],\n",
       "       [464.62368774, 464.21160889, 463.79608154, ..., 577.40496826,\n",
       "        577.87805176, 578.31860352]])"
      ]
     },
     "execution_count": 5,
     "metadata": {},
     "output_type": "execute_result"
    }
   ],
   "source": [
    "background.rms()"
   ]
  },
  {
   "cell_type": "markdown",
   "id": "e1631828-e398-4ec0-ad44-fa0e6d51a95f",
   "metadata": {},
   "source": [
    "## value\n",
    "A `Fits` object can obtain value from a fits file and given coordinate"
   ]
  },
  {
   "cell_type": "code",
   "execution_count": 6,
   "id": "54bf11da-cf68-4f2b-a155-ff1a9aa734e6",
   "metadata": {},
   "outputs": [
    {
     "data": {
      "text/plain": [
       "7201.0"
      ]
     },
     "execution_count": 6,
     "metadata": {},
     "output_type": "execute_result"
    }
   ],
   "source": [
    "value = fits.value(0, 0)\n",
    "value"
   ]
  },
  {
   "cell_type": "code",
   "execution_count": null,
   "id": "5b66b293-3004-42da-a8e8-e78d0b84fbda",
   "metadata": {},
   "outputs": [],
   "source": []
  }
 ],
 "metadata": {
  "kernelspec": {
   "display_name": "Python 3 (ipykernel)",
   "language": "python",
   "name": "python3"
  },
  "language_info": {
   "codemirror_mode": {
    "name": "ipython",
    "version": 3
   },
   "file_extension": ".py",
   "mimetype": "text/x-python",
   "name": "python",
   "nbconvert_exporter": "python",
   "pygments_lexer": "ipython3",
   "version": "3.8.19"
  }
 },
 "nbformat": 4,
 "nbformat_minor": 5
}
