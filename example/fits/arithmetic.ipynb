{
 "cells": [
  {
   "cell_type": "code",
   "execution_count": 1,
   "id": "e21d1bae-bc91-4c90-ad0c-a9621dab12a6",
   "metadata": {},
   "outputs": [
    {
     "data": {
      "text/plain": [
       "array([[ 7201.,  6642.,  6642., ...,  9498.,  9498., 10057.],\n",
       "       [ 6642.,  6363.,  6642., ..., 10057., 10616., 10616.],\n",
       "       [ 6922.,  6642.,  6922., ..., 10337., 11175., 10616.],\n",
       "       ...,\n",
       "       [ 5412.,  5132.,  5412., ..., 13000., 12580., 12021.],\n",
       "       [ 5796.,  5517.,  5796., ..., 12546., 12546., 11987.],\n",
       "       [ 5796.,  5796.,  6076., ..., 11987., 12546., 12546.]])"
      ]
     },
     "execution_count": 1,
     "metadata": {},
     "output_type": "execute_result"
    }
   ],
   "source": [
    "from myraflib import Fits\n",
    "\n",
    "fits = Fits.sample()\n",
    "fits.data()"
   ]
  },
  {
   "cell_type": "markdown",
   "id": "7500ff03-e510-48ca-9fc9-ccd550073842",
   "metadata": {},
   "source": [
    "# add\n",
    "A `Fits` object can add values to fits. The value may be another fits or a numeric value\n",
    "\n",
    "## Numeric"
   ]
  },
  {
   "cell_type": "code",
   "execution_count": 2,
   "id": "4a3cf284-d5c5-4387-b1e3-139e2104b958",
   "metadata": {},
   "outputs": [
    {
     "data": {
      "text/plain": [
       "array([[ 7221.,  6662.,  6662., ...,  9518.,  9518., 10077.],\n",
       "       [ 6662.,  6383.,  6662., ..., 10077., 10636., 10636.],\n",
       "       [ 6942.,  6662.,  6942., ..., 10357., 11195., 10636.],\n",
       "       ...,\n",
       "       [ 5432.,  5152.,  5432., ..., 13020., 12600., 12041.],\n",
       "       [ 5816.,  5537.,  5816., ..., 12566., 12566., 12007.],\n",
       "       [ 5816.,  5816.,  6096., ..., 12007., 12566., 12566.]])"
      ]
     },
     "execution_count": 2,
     "metadata": {},
     "output_type": "execute_result"
    }
   ],
   "source": [
    "added_fits = fits.add(20)\n",
    "added_fits.data()"
   ]
  },
  {
   "cell_type": "markdown",
   "id": "ef3b8b6c-29cd-49ea-a0ae-c56ad5fcffec",
   "metadata": {},
   "source": [
    "The `Fits` object overrides `__add__`  method. So one can use `+` operator to do addition"
   ]
  },
  {
   "cell_type": "code",
   "execution_count": 3,
   "id": "74a3a064-3ad4-41ac-9acc-61a629e3c8fb",
   "metadata": {},
   "outputs": [
    {
     "data": {
      "text/plain": [
       "array([[ 7221.,  6662.,  6662., ...,  9518.,  9518., 10077.],\n",
       "       [ 6662.,  6383.,  6662., ..., 10077., 10636., 10636.],\n",
       "       [ 6942.,  6662.,  6942., ..., 10357., 11195., 10636.],\n",
       "       ...,\n",
       "       [ 5432.,  5152.,  5432., ..., 13020., 12600., 12041.],\n",
       "       [ 5816.,  5537.,  5816., ..., 12566., 12566., 12007.],\n",
       "       [ 5816.,  5816.,  6096., ..., 12007., 12566., 12566.]])"
      ]
     },
     "execution_count": 3,
     "metadata": {},
     "output_type": "execute_result"
    }
   ],
   "source": [
    "added_fits = fits + 20\n",
    "added_fits.data()"
   ]
  },
  {
   "cell_type": "markdown",
   "id": "a36bccca-f231-4824-93d6-1c643f434b06",
   "metadata": {},
   "source": [
    "## Fits"
   ]
  },
  {
   "cell_type": "code",
   "execution_count": 4,
   "id": "849728db-3470-42f5-9a6d-359d1446d9d7",
   "metadata": {},
   "outputs": [
    {
     "data": {
      "text/plain": [
       "array([[14402., 13284., 13284., ..., 18996., 18996., 20114.],\n",
       "       [13284., 12726., 13284., ..., 20114., 21232., 21232.],\n",
       "       [13844., 13284., 13844., ..., 20674., 22350., 21232.],\n",
       "       ...,\n",
       "       [10824., 10264., 10824., ..., 26000., 25160., 24042.],\n",
       "       [11592., 11034., 11592., ..., 25092., 25092., 23974.],\n",
       "       [11592., 11592., 12152., ..., 23974., 25092., 25092.]])"
      ]
     },
     "execution_count": 4,
     "metadata": {},
     "output_type": "execute_result"
    }
   ],
   "source": [
    "added_fits = fits.add(fits)\n",
    "added_fits.data()"
   ]
  },
  {
   "cell_type": "code",
   "execution_count": 5,
   "id": "be427f0b-1f29-496e-944c-e7f93f6b00df",
   "metadata": {},
   "outputs": [
    {
     "data": {
      "text/plain": [
       "array([[14402., 13284., 13284., ..., 18996., 18996., 20114.],\n",
       "       [13284., 12726., 13284., ..., 20114., 21232., 21232.],\n",
       "       [13844., 13284., 13844., ..., 20674., 22350., 21232.],\n",
       "       ...,\n",
       "       [10824., 10264., 10824., ..., 26000., 25160., 24042.],\n",
       "       [11592., 11034., 11592., ..., 25092., 25092., 23974.],\n",
       "       [11592., 11592., 12152., ..., 23974., 25092., 25092.]])"
      ]
     },
     "execution_count": 5,
     "metadata": {},
     "output_type": "execute_result"
    }
   ],
   "source": [
    "added_fits = fits + fits\n",
    "added_fits.data()"
   ]
  },
  {
   "cell_type": "markdown",
   "id": "f27e340c-4e5d-4227-869b-faf1311908d3",
   "metadata": {},
   "source": [
    "the same thing can be done for subtraction, multiplication, division, and power \n",
    "# sub"
   ]
  },
  {
   "cell_type": "code",
   "execution_count": 6,
   "id": "708c0268-cb6a-4df2-b8f8-1cdeb837c84a",
   "metadata": {},
   "outputs": [
    {
     "data": {
      "text/plain": [
       "array([[ 7181.,  6622.,  6622., ...,  9478.,  9478., 10037.],\n",
       "       [ 6622.,  6343.,  6622., ..., 10037., 10596., 10596.],\n",
       "       [ 6902.,  6622.,  6902., ..., 10317., 11155., 10596.],\n",
       "       ...,\n",
       "       [ 5392.,  5112.,  5392., ..., 12980., 12560., 12001.],\n",
       "       [ 5776.,  5497.,  5776., ..., 12526., 12526., 11967.],\n",
       "       [ 5776.,  5776.,  6056., ..., 11967., 12526., 12526.]])"
      ]
     },
     "execution_count": 6,
     "metadata": {},
     "output_type": "execute_result"
    }
   ],
   "source": [
    "subtracted_fits = fits.sub(20)\n",
    "subtracted_fits.data()"
   ]
  },
  {
   "cell_type": "code",
   "execution_count": 7,
   "id": "5f3961cc-6139-4a91-9682-7e4b1ab31c50",
   "metadata": {},
   "outputs": [
    {
     "data": {
      "text/plain": [
       "array([[ 7181.,  6622.,  6622., ...,  9478.,  9478., 10037.],\n",
       "       [ 6622.,  6343.,  6622., ..., 10037., 10596., 10596.],\n",
       "       [ 6902.,  6622.,  6902., ..., 10317., 11155., 10596.],\n",
       "       ...,\n",
       "       [ 5392.,  5112.,  5392., ..., 12980., 12560., 12001.],\n",
       "       [ 5776.,  5497.,  5776., ..., 12526., 12526., 11967.],\n",
       "       [ 5776.,  5776.,  6056., ..., 11967., 12526., 12526.]])"
      ]
     },
     "execution_count": 7,
     "metadata": {},
     "output_type": "execute_result"
    }
   ],
   "source": [
    "subtracted_fits = fits - 20\n",
    "subtracted_fits.data()"
   ]
  },
  {
   "cell_type": "markdown",
   "id": "087250fd-56b1-4287-b0cc-1cfa07047c90",
   "metadata": {},
   "source": [
    "# mul"
   ]
  },
  {
   "cell_type": "code",
   "execution_count": 8,
   "id": "4100a66a-03a3-42ed-b0ef-9d9a28def678",
   "metadata": {},
   "outputs": [
    {
     "data": {
      "text/plain": [
       "array([[144020., 132840., 132840., ..., 189960., 189960., 201140.],\n",
       "       [132840., 127260., 132840., ..., 201140., 212320., 212320.],\n",
       "       [138440., 132840., 138440., ..., 206740., 223500., 212320.],\n",
       "       ...,\n",
       "       [108240., 102640., 108240., ..., 260000., 251600., 240420.],\n",
       "       [115920., 110340., 115920., ..., 250920., 250920., 239740.],\n",
       "       [115920., 115920., 121520., ..., 239740., 250920., 250920.]])"
      ]
     },
     "execution_count": 8,
     "metadata": {},
     "output_type": "execute_result"
    }
   ],
   "source": [
    "multiplied_fits = fits.mul(20)\n",
    "multiplied_fits.data()"
   ]
  },
  {
   "cell_type": "code",
   "execution_count": 9,
   "id": "ec423fcd-b527-47a1-9b46-6790d31b760c",
   "metadata": {},
   "outputs": [
    {
     "data": {
      "text/plain": [
       "array([[144020., 132840., 132840., ..., 189960., 189960., 201140.],\n",
       "       [132840., 127260., 132840., ..., 201140., 212320., 212320.],\n",
       "       [138440., 132840., 138440., ..., 206740., 223500., 212320.],\n",
       "       ...,\n",
       "       [108240., 102640., 108240., ..., 260000., 251600., 240420.],\n",
       "       [115920., 110340., 115920., ..., 250920., 250920., 239740.],\n",
       "       [115920., 115920., 121520., ..., 239740., 250920., 250920.]])"
      ]
     },
     "execution_count": 9,
     "metadata": {},
     "output_type": "execute_result"
    }
   ],
   "source": [
    "multiplied_fits = fits * 20\n",
    "multiplied_fits.data()"
   ]
  },
  {
   "cell_type": "markdown",
   "id": "d6426c9a-98a4-40ec-a4b6-92b4eba3536b",
   "metadata": {},
   "source": [
    "## div"
   ]
  },
  {
   "cell_type": "code",
   "execution_count": 10,
   "id": "fb9fa7fa-a123-4ffb-b9bc-c7c3c36f5bfb",
   "metadata": {},
   "outputs": [
    {
     "data": {
      "text/plain": [
       "array([[360., 332., 332., ..., 474., 474., 502.],\n",
       "       [332., 318., 332., ..., 502., 530., 530.],\n",
       "       [346., 332., 346., ..., 516., 558., 530.],\n",
       "       ...,\n",
       "       [270., 256., 270., ..., 650., 629., 601.],\n",
       "       [289., 275., 289., ..., 627., 627., 599.],\n",
       "       [289., 289., 303., ..., 599., 627., 627.]])"
      ]
     },
     "execution_count": 10,
     "metadata": {},
     "output_type": "execute_result"
    }
   ],
   "source": [
    "divided_fits = fits.div(20)\n",
    "divided_fits.data()"
   ]
  },
  {
   "cell_type": "code",
   "execution_count": 11,
   "id": "251bc562-9523-4603-bf4a-398216316f9b",
   "metadata": {},
   "outputs": [
    {
     "data": {
      "text/plain": [
       "array([[360., 332., 332., ..., 474., 474., 502.],\n",
       "       [332., 318., 332., ..., 502., 530., 530.],\n",
       "       [346., 332., 346., ..., 516., 558., 530.],\n",
       "       ...,\n",
       "       [270., 256., 270., ..., 650., 629., 601.],\n",
       "       [289., 275., 289., ..., 627., 627., 599.],\n",
       "       [289., 289., 303., ..., 599., 627., 627.]])"
      ]
     },
     "execution_count": 11,
     "metadata": {},
     "output_type": "execute_result"
    }
   ],
   "source": [
    "divided_fits = fits / 20\n",
    "divided_fits.data()"
   ]
  },
  {
   "cell_type": "markdown",
   "id": "70c633c5-5570-4b26-a8b0-559184bec2b6",
   "metadata": {},
   "source": [
    "## pow"
   ]
  },
  {
   "cell_type": "code",
   "execution_count": 12,
   "id": "5cfd228e-38b1-4810-be0f-7933c0fcd733",
   "metadata": {},
   "outputs": [
    {
     "data": {
      "text/plain": [
       "array([[5.18544010e+07, 4.41161640e+07, 4.41161640e+07, ...,\n",
       "        9.02120040e+07, 9.02120040e+07, 1.01143249e+08],\n",
       "       [4.41161640e+07, 4.04877690e+07, 4.41161640e+07, ...,\n",
       "        1.01143249e+08, 1.12699456e+08, 1.12699456e+08],\n",
       "       [4.79140840e+07, 4.41161640e+07, 4.79140840e+07, ...,\n",
       "        1.06853569e+08, 1.24880625e+08, 1.12699456e+08],\n",
       "       ...,\n",
       "       [2.92897440e+07, 2.63374240e+07, 2.92897440e+07, ...,\n",
       "        1.69000000e+08, 1.58256400e+08, 1.44504441e+08],\n",
       "       [3.35936160e+07, 3.04372890e+07, 3.35936160e+07, ...,\n",
       "        1.57402116e+08, 1.57402116e+08, 1.43688169e+08],\n",
       "       [3.35936160e+07, 3.35936160e+07, 3.69177760e+07, ...,\n",
       "        1.43688169e+08, 1.57402116e+08, 1.57402116e+08]])"
      ]
     },
     "execution_count": 12,
     "metadata": {},
     "output_type": "execute_result"
    }
   ],
   "source": [
    "raised_fits = fits.pow(2)\n",
    "raised_fits.data()"
   ]
  },
  {
   "cell_type": "markdown",
   "id": "dca750a3-0a24-424c-8843-00c2ba206477",
   "metadata": {},
   "source": [
    "### There is not method override for pow. So `fits ** 2` __will not work__\n",
    "\n",
    "Be careful with power and integer overflow: https://en.wikipedia.org/wiki/Integer_overflow"
   ]
  },
  {
   "cell_type": "code",
   "execution_count": 13,
   "id": "be92c865-ea3a-4ca1-ac29-708e10fcd31a",
   "metadata": {},
   "outputs": [
    {
     "name": "stderr",
     "output_type": "stream",
     "text": [
      "/home/niaei/Documents/myrafproject_v3/src/myraflib/fits.py:236: RuntimeWarning: invalid value encountered in cast\n",
      "  data = data.astype(data_type)\n"
     ]
    },
    {
     "data": {
      "text/plain": [
       "array([[0., 0., 0., ..., 0., 0., 0.],\n",
       "       [0., 0., 0., ..., 0., 0., 0.],\n",
       "       [0., 0., 0., ..., 0., 0., 0.],\n",
       "       ...,\n",
       "       [0., 0., 0., ..., 0., 0., 0.],\n",
       "       [0., 0., 0., ..., 0., 0., 0.],\n",
       "       [0., 0., 0., ..., 0., 0., 0.]])"
      ]
     },
     "execution_count": 13,
     "metadata": {},
     "output_type": "execute_result"
    }
   ],
   "source": [
    "raised_fits = fits.pow(6)\n",
    "raised_fits.data()override"
   ]
  },
  {
   "cell_type": "markdown",
   "id": "2943becb-b175-4174-a991-ca2b9bb479b1",
   "metadata": {},
   "source": [
    "## imarith\n",
    "imarith is an entry point for all arithmeic operations. `+`, `-`, `*`, `/`, `**`, `^`"
   ]
  },
  {
   "cell_type": "code",
   "execution_count": 14,
   "id": "5ed12e14-a20e-4aeb-bfd2-0fe77a8783ef",
   "metadata": {},
   "outputs": [
    {
     "data": {
      "text/plain": [
       "array([[ 7221.,  6662.,  6662., ...,  9518.,  9518., 10077.],\n",
       "       [ 6662.,  6383.,  6662., ..., 10077., 10636., 10636.],\n",
       "       [ 6942.,  6662.,  6942., ..., 10357., 11195., 10636.],\n",
       "       ...,\n",
       "       [ 5432.,  5152.,  5432., ..., 13020., 12600., 12041.],\n",
       "       [ 5816.,  5537.,  5816., ..., 12566., 12566., 12007.],\n",
       "       [ 5816.,  5816.,  6096., ..., 12007., 12566., 12566.]])"
      ]
     },
     "execution_count": 14,
     "metadata": {},
     "output_type": "execute_result"
    }
   ],
   "source": [
    "added_fits = fits.imarith(20, \"+\")\n",
    "added_fits.data()"
   ]
  },
  {
   "cell_type": "code",
   "execution_count": null,
   "id": "87a38246-864c-458b-b747-d3a20e0420aa",
   "metadata": {},
   "outputs": [],
   "source": []
  }
 ],
 "metadata": {
  "kernelspec": {
   "display_name": "Python 3 (ipykernel)",
   "language": "python",
   "name": "python3"
  },
  "language_info": {
   "codemirror_mode": {
    "name": "ipython",
    "version": 3
   },
   "file_extension": ".py",
   "mimetype": "text/x-python",
   "name": "python",
   "nbconvert_exporter": "python",
   "pygments_lexer": "ipython3",
   "version": "3.8.19"
  }
 },
 "nbformat": 4,
 "nbformat_minor": 5
}
