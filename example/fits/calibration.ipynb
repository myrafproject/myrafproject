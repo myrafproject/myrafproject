{
 "cells": [
  {
   "cell_type": "code",
   "execution_count": 1,
   "id": "65804907-2c32-441a-8286-22d096a733eb",
   "metadata": {},
   "outputs": [
    {
     "data": {
      "text/plain": [
       "array([[ 7201.,  6642.,  6642., ...,  9498.,  9498., 10057.],\n",
       "       [ 6642.,  6363.,  6642., ..., 10057., 10616., 10616.],\n",
       "       [ 6922.,  6642.,  6922., ..., 10337., 11175., 10616.],\n",
       "       ...,\n",
       "       [ 5412.,  5132.,  5412., ..., 13000., 12580., 12021.],\n",
       "       [ 5796.,  5517.,  5796., ..., 12546., 12546., 11987.],\n",
       "       [ 5796.,  5796.,  6076., ..., 11987., 12546., 12546.]])"
      ]
     },
     "execution_count": 1,
     "metadata": {},
     "output_type": "execute_result"
    }
   ],
   "source": [
    "from myraflib import Fits\n",
    "\n",
    "fits = Fits.sample()\n",
    "fits.data()"
   ]
  },
  {
   "cell_type": "markdown",
   "id": "acca45c1-c60c-45ca-98fe-d28dcc8e2c39",
   "metadata": {},
   "source": [
    "# zero_correction\n",
    "A `Fits` object can correct zero using a master_zero file"
   ]
  },
  {
   "cell_type": "code",
   "execution_count": 2,
   "id": "37adfbb0-5944-412a-86f6-748ca5714ded",
   "metadata": {},
   "outputs": [
    {
     "name": "stderr",
     "output_type": "stream",
     "text": [
      "WARNING: FITSFixedWarning: 'datfix' made the change 'Set MJD-OBS to 48247.575694 from DATE-OBS'. [astropy.wcs.wcs]\n"
     ]
    },
    {
     "data": {
      "text/plain": [
       "array([[0., 0., 0., ..., 0., 0., 0.],\n",
       "       [0., 0., 0., ..., 0., 0., 0.],\n",
       "       [0., 0., 0., ..., 0., 0., 0.],\n",
       "       ...,\n",
       "       [0., 0., 0., ..., 0., 0., 0.],\n",
       "       [0., 0., 0., ..., 0., 0., 0.],\n",
       "       [0., 0., 0., ..., 0., 0., 0.]])"
      ]
     },
     "execution_count": 2,
     "metadata": {},
     "output_type": "execute_result"
    }
   ],
   "source": [
    "zero_corrected_fits = fits.zero_correction(fits)\n",
    "zero_corrected_fits.data()"
   ]
  },
  {
   "cell_type": "markdown",
   "id": "0432655d-1c68-4552-8147-f739e8b02652",
   "metadata": {},
   "source": [
    "Since we zero corrected a file with itself, all zero array is expected"
   ]
  },
  {
   "cell_type": "markdown",
   "id": "a3f06c9c-efac-442d-bdf6-f7ec4ef104eb",
   "metadata": {},
   "source": [
    "# dark_correction\n",
    "A `Fits` object can correct dark using a master_dark file"
   ]
  },
  {
   "cell_type": "code",
   "execution_count": 3,
   "id": "5834a4d1-1adf-4c13-b4d2-d472bcb894c0",
   "metadata": {},
   "outputs": [
    {
     "name": "stderr",
     "output_type": "stream",
     "text": [
      "WARNING: FITSFixedWarning: 'datfix' made the change 'Set MJD-OBS to 48247.575694 from DATE-OBS'. [astropy.wcs.wcs]\n"
     ]
    },
    {
     "data": {
      "text/plain": [
       "array([[0., 0., 0., ..., 0., 0., 0.],\n",
       "       [0., 0., 0., ..., 0., 0., 0.],\n",
       "       [0., 0., 0., ..., 0., 0., 0.],\n",
       "       ...,\n",
       "       [0., 0., 0., ..., 0., 0., 0.],\n",
       "       [0., 0., 0., ..., 0., 0., 0.],\n",
       "       [0., 0., 0., ..., 0., 0., 0.]])"
      ]
     },
     "execution_count": 3,
     "metadata": {},
     "output_type": "execute_result"
    }
   ],
   "source": [
    "dark_corrected_fits = fits.dark_correction(fits)\n",
    "dark_corrected_fits.data()"
   ]
  },
  {
   "cell_type": "markdown",
   "id": "e5188b41-27ea-4297-932c-05b67a2830d3",
   "metadata": {},
   "source": [
    "Since we dark corrected a file with itself, all zero array is expected"
   ]
  },
  {
   "cell_type": "markdown",
   "id": "04f55ad1-202a-4b41-9fdd-fd0a614b08cb",
   "metadata": {},
   "source": [
    "# flat_correction\n",
    "A `Fits` object can correct flat using a master_flat file"
   ]
  },
  {
   "cell_type": "code",
   "execution_count": 4,
   "id": "32fd6d59-302e-4c70-b86d-b6de80b1f447",
   "metadata": {},
   "outputs": [
    {
     "name": "stderr",
     "output_type": "stream",
     "text": [
      "WARNING: FITSFixedWarning: 'datfix' made the change 'Set MJD-OBS to 48247.575694 from DATE-OBS'. [astropy.wcs.wcs]\n"
     ]
    },
    {
     "data": {
      "text/plain": [
       "array([[9831., 9831., 9831., ..., 9831., 9831., 9831.],\n",
       "       [9831., 9831., 9831., ..., 9831., 9831., 9831.],\n",
       "       [9831., 9831., 9831., ..., 9831., 9831., 9831.],\n",
       "       ...,\n",
       "       [9831., 9831., 9831., ..., 9831., 9831., 9831.],\n",
       "       [9831., 9831., 9831., ..., 9831., 9831., 9831.],\n",
       "       [9831., 9831., 9831., ..., 9831., 9831., 9831.]])"
      ]
     },
     "execution_count": 4,
     "metadata": {},
     "output_type": "execute_result"
    }
   ],
   "source": [
    "flat_corrected_fits = fits.flat_correction(fits)\n",
    "flat_corrected_fits.data()"
   ]
  },
  {
   "cell_type": "markdown",
   "id": "fc47c7de-4c47-4a56-95c5-bcb60c817476",
   "metadata": {},
   "source": [
    "Since we flat corrected a file with itself, all teh same array is expected"
   ]
  },
  {
   "cell_type": "markdown",
   "id": "c9cdcff4-71a3-41b2-99b6-282a02add8d5",
   "metadata": {},
   "source": [
    "# ccdproc\n",
    "A `Fits` object can correct any or all zero, dark and flat using master fits"
   ]
  },
  {
   "cell_type": "code",
   "execution_count": 5,
   "id": "cea846dc-789d-4f44-a147-6a10c944bb94",
   "metadata": {},
   "outputs": [
    {
     "name": "stderr",
     "output_type": "stream",
     "text": [
      "WARNING: FITSFixedWarning: 'datfix' made the change 'Set MJD-OBS to 48247.575694 from DATE-OBS'. [astropy.wcs.wcs]\n",
      "WARNING: FITSFixedWarning: 'datfix' made the change 'Set MJD-OBS to 48247.575694 from DATE-OBS'. [astropy.wcs.wcs]\n",
      "WARNING: FITSFixedWarning: 'datfix' made the change 'Set MJD-OBS to 48247.575694 from DATE-OBS'. [astropy.wcs.wcs]\n",
      "WARNING: FITSFixedWarning: 'datfix' made the change 'Set MJD-OBS to 48247.575694 from DATE-OBS'. [astropy.wcs.wcs]\n"
     ]
    },
    {
     "data": {
      "text/plain": [
       "array([[-9831., -9831., -9831., ..., -9831., -9831., -9831.],\n",
       "       [-9831., -9831., -9831., ..., -9831., -9831., -9831.],\n",
       "       [-9831., -9831., -9831., ..., -9831., -9831., -9831.],\n",
       "       ...,\n",
       "       [-9831., -9831., -9831., ..., -9831., -9831., -9831.],\n",
       "       [-9831., -9831., -9831., ..., -9831., -9831., -9831.],\n",
       "       [-9831., -9831., -9831., ..., -9831., -9831., -9831.]])"
      ]
     },
     "execution_count": 5,
     "metadata": {},
     "output_type": "execute_result"
    }
   ],
   "source": [
    "corrected_fits = fits.ccdproc(master_zero=fits, master_dark=fits, master_flat=fits)\n",
    "corrected_fits.data()"
   ]
  }
 ],
 "metadata": {
  "kernelspec": {
   "display_name": "Python 3 (ipykernel)",
   "language": "python",
   "name": "python3"
  },
  "language_info": {
   "codemirror_mode": {
    "name": "ipython",
    "version": 3
   },
   "file_extension": ".py",
   "mimetype": "text/x-python",
   "name": "python",
   "nbconvert_exporter": "python",
   "pygments_lexer": "ipython3",
   "version": "3.8.19"
  }
 },
 "nbformat": 4,
 "nbformat_minor": 5
}
