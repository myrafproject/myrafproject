{
 "cells": [
  {
   "metadata": {
    "ExecuteTime": {
     "end_time": "2024-09-13T11:47:00.597408Z",
     "start_time": "2024-09-13T11:47:00.592832Z"
    }
   },
   "cell_type": "code",
   "source": [
    "import warnings\n",
    "warnings.filterwarnings('ignore')"
   ],
   "id": "8fecdda3e86c10ab",
   "outputs": [],
   "execution_count": 1
  },
  {
   "metadata": {},
   "cell_type": "markdown",
   "source": [
    "# Calibration\n",
    "\n",
    "FITS files may not always are calibrated. Typically, there are three types of systematic errors that can affect a CCD-produced digital image: zero offset, dark current, and flat-field variations. The `Fits` class provides methods to correct for these errors, ensuring more accurate image data.\n",
    "Here’s a polished version for the `zero_correction` section:\n",
    "\n",
    "## zero_correction\n",
    "\n",
    "The `zero_correction` method provides an easy-to-use functionality for correcting zero offset errors in FITS images. This method adjusts for any constant bias present in the data, ensuring more accurate image calibration."
   ],
   "id": "8e685a95709dc218"
  },
  {
   "metadata": {
    "ExecuteTime": {
     "end_time": "2024-09-13T11:47:01.777755Z",
     "start_time": "2024-09-13T11:47:00.637510Z"
    }
   },
   "cell_type": "code",
   "source": [
    "from math import radians\n",
    "from myraflib import Fits\n",
    "\n",
    "fits_1 = Fits.sample()\n",
    "fits_1"
   ],
   "id": "3ab2b139977b7aff",
   "outputs": [
    {
     "data": {
      "text/plain": [
       "Fits(@: '123217097212976', path:'/tmp/myraf_y2vk8bsb.fits')"
      ]
     },
     "execution_count": 2,
     "metadata": {},
     "output_type": "execute_result"
    }
   ],
   "execution_count": 2
  },
  {
   "metadata": {
    "ExecuteTime": {
     "end_time": "2024-09-13T11:47:01.899811Z",
     "start_time": "2024-09-13T11:47:01.849722Z"
    }
   },
   "cell_type": "code",
   "source": [
    "zero_corrected = fits_1.zero_correction(fits_1)\n",
    "zero_corrected.data().mean(), zero_corrected.data().std()"
   ],
   "id": "3d5b21751b99edbf",
   "outputs": [
    {
     "data": {
      "text/plain": [
       "(0.0, 0.0)"
      ]
     },
     "execution_count": 3,
     "metadata": {},
     "output_type": "execute_result"
    }
   ],
   "execution_count": 3
  },
  {
   "metadata": {},
   "cell_type": "markdown",
   "source": "Since we zero corrected the fits image with itself, an all zero image is expected.dd",
   "id": "f9ef6287025999bb"
  },
  {
   "metadata": {},
   "cell_type": "markdown",
   "source": [
    "## dark_correction\n",
    "\n",
    "The `dark_correction` method compensates for dark current errors in FITS images. Similar to the `zero_correction` method, it adjusts the data to account for any signal that is present due to the CCD’s thermal noise, improving the accuracy of the calibration.\n"
   ],
   "id": "80e586d7c1e9b1f7"
  },
  {
   "metadata": {
    "ExecuteTime": {
     "end_time": "2024-09-13T11:47:02.012291Z",
     "start_time": "2024-09-13T11:47:01.962240Z"
    }
   },
   "cell_type": "code",
   "source": [
    "dark_corrected = fits_1.dark_correction(fits_1)\n",
    "dark_corrected.data().mean(), dark_corrected.data().std()"
   ],
   "id": "8bc885b9722c60b4",
   "outputs": [
    {
     "data": {
      "text/plain": [
       "(0.0, 0.0)"
      ]
     },
     "execution_count": 4,
     "metadata": {},
     "output_type": "execute_result"
    }
   ],
   "execution_count": 4
  },
  {
   "metadata": {},
   "cell_type": "markdown",
   "source": "Since we dark corrected the fits image with itself, an all zero image is expected.",
   "id": "8142ae46225bfe70"
  },
  {
   "metadata": {},
   "cell_type": "markdown",
   "source": [
    "## flat_correction\n",
    "\n",
    "The `flat_correction` method addresses flat-field variations in FITS images. Like the `zero_correction` method, it adjusts the data to correct for uneven illumination across the image, ensuring more accurate calibration by normalizing pixel responses."
   ],
   "id": "b0b6151c40b7354a"
  },
  {
   "metadata": {
    "ExecuteTime": {
     "end_time": "2024-09-13T11:47:02.067103Z",
     "start_time": "2024-09-13T11:47:02.018361Z"
    }
   },
   "cell_type": "code",
   "source": [
    "flat_corrected = fits_1.flat_correction(fits_1)\n",
    "flat_corrected.data().mean(), flat_corrected.data().std()"
   ],
   "id": "a1d67524e7927d78",
   "outputs": [
    {
     "data": {
      "text/plain": [
       "(9831.0, 0.0)"
      ]
     },
     "execution_count": 5,
     "metadata": {},
     "output_type": "execute_result"
    }
   ],
   "execution_count": 5
  },
  {
   "metadata": {},
   "cell_type": "markdown",
   "source": [
    "Since we flat corrected the fits image with itself, an all the same image is expected.\n",
    "\n",
    "## ccdproc\n",
    "\n",
    "The `ccdproc` method integrates all three correction types—zero correction, dark correction, and flat correction—into a single, versatile function. This method allows for any combination of these corrections, providing a comprehensive approach to calibrating FITS images by addressing zero offset, dark current, and flat-field variations.\n"
   ],
   "id": "f07c7a197cc26216"
  },
  {
   "metadata": {
    "ExecuteTime": {
     "end_time": "2024-09-13T11:47:02.121741Z",
     "start_time": "2024-09-13T11:47:02.072102Z"
    }
   },
   "cell_type": "code",
   "source": [
    "zero_corrected = fits_1.ccdproc(master_zero=fits_1)\n",
    "zero_corrected.data().mean(), zero_corrected.data().std()"
   ],
   "id": "83df4f02c8b72f97",
   "outputs": [
    {
     "data": {
      "text/plain": [
       "(0.0, 0.0)"
      ]
     },
     "execution_count": 6,
     "metadata": {},
     "output_type": "execute_result"
    }
   ],
   "execution_count": 6
  },
  {
   "metadata": {
    "ExecuteTime": {
     "end_time": "2024-09-13T11:47:02.179060Z",
     "start_time": "2024-09-13T11:47:02.129221Z"
    }
   },
   "cell_type": "code",
   "source": [
    "dark_corrected = fits_1.ccdproc(master_dark=fits_1)\n",
    "dark_corrected.data().mean(), dark_corrected.data().std()"
   ],
   "id": "35f9dfc62b9d3f42",
   "outputs": [
    {
     "data": {
      "text/plain": [
       "(0.0, 0.0)"
      ]
     },
     "execution_count": 7,
     "metadata": {},
     "output_type": "execute_result"
    }
   ],
   "execution_count": 7
  },
  {
   "metadata": {
    "ExecuteTime": {
     "end_time": "2024-09-13T11:47:02.235056Z",
     "start_time": "2024-09-13T11:47:02.184063Z"
    }
   },
   "cell_type": "code",
   "source": [
    "flat_corrected = fits_1.ccdproc(master_flat=fits_1)\n",
    "flat_corrected.data().mean(), flat_corrected.data().std()"
   ],
   "id": "cc7a80c16fbdc8cd",
   "outputs": [
    {
     "data": {
      "text/plain": [
       "(9831.0, 0.0)"
      ]
     },
     "execution_count": 8,
     "metadata": {},
     "output_type": "execute_result"
    }
   ],
   "execution_count": 8
  },
  {
   "metadata": {
    "ExecuteTime": {
     "end_time": "2024-09-13T11:47:02.312937Z",
     "start_time": "2024-09-13T11:47:02.241480Z"
    }
   },
   "cell_type": "code",
   "source": [
    "zero_dark_corrected = fits_1.ccdproc(master_zero=fits_1, master_dark=fits_1)\n",
    "zero_dark_corrected.data().mean(), zero_dark_corrected.data().std()"
   ],
   "id": "90923c4b31cdd395",
   "outputs": [
    {
     "data": {
      "text/plain": [
       "(-9831.481676287574, 3032.3927542049046)"
      ]
     },
     "execution_count": 9,
     "metadata": {},
     "output_type": "execute_result"
    }
   ],
   "execution_count": 9
  },
  {
   "metadata": {
    "ExecuteTime": {
     "end_time": "2024-09-13T11:47:02.391937Z",
     "start_time": "2024-09-13T11:47:02.319075Z"
    }
   },
   "cell_type": "code",
   "source": [
    "zero_flat_corrected = fits_1.ccdproc(master_zero=fits_1, master_flat=fits_1)\n",
    "zero_flat_corrected.data().mean(), zero_flat_corrected.data().std()"
   ],
   "id": "8fa091b80b72f2db",
   "outputs": [
    {
     "data": {
      "text/plain": [
       "(0.0, 0.0)"
      ]
     },
     "execution_count": 10,
     "metadata": {},
     "output_type": "execute_result"
    }
   ],
   "execution_count": 10
  }
 ],
 "metadata": {
  "kernelspec": {
   "display_name": "Python 3",
   "language": "python",
   "name": "python3"
  },
  "language_info": {
   "codemirror_mode": {
    "name": "ipython",
    "version": 2
   },
   "file_extension": ".py",
   "mimetype": "text/x-python",
   "name": "python",
   "nbconvert_exporter": "python",
   "pygments_lexer": "ipython2",
   "version": "2.7.6"
  }
 },
 "nbformat": 4,
 "nbformat_minor": 5
}
