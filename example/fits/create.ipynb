{
 "cells": [
  {
   "metadata": {},
   "cell_type": "markdown",
   "source": [
    "# What is `Fits` object?\n",
    "\n",
    "The `Fits` object encapsulates the data and functionalities needed for performing a wide range of astronomical photometry tasks. Designed for simplicity and ease of use, `Fits` eliminates the need for external functions to modify or analyze a FITS file. \n",
    "\n",
    "The object supports method chaining, meaning most methods return a `Fits` object, either the current one or a new instance. This allows users to chain multiple method calls for a streamlined workflow. \n",
    "\n",
    "If a method returns a new `Fits` object, it can optionally accept two parameters: `output` and `override`. The `output` parameter is the path to the output file as a string, while `override` specifies whether to overwrite an existing file at the given path. If `output` is not provided or set to `None`, a temporary file will be created and automatically deleted when the object is destroyed (`__del__`).\n",
    "\n",
    "In order to demonstrate, lets create a `Fits` object from a file with multiple methods."
   ],
   "id": "b13f61fea543f6fd"
  },
  {
   "metadata": {
    "ExecuteTime": {
     "end_time": "2024-09-13T11:47:15.592891Z",
     "start_time": "2024-09-13T11:47:14.411596Z"
    }
   },
   "cell_type": "code",
   "source": [
    "from myraflib import Fits\n",
    "from pathlib import Path\n",
    "\n",
    "fits = Fits(Path(\"sample.fits\"))\n",
    "fits"
   ],
   "id": "75bb301e5ac11fb6",
   "outputs": [
    {
     "data": {
      "text/plain": [
       "Fits(@: '128557119357232', path:'sample.fits')"
      ]
     },
     "execution_count": 1,
     "metadata": {},
     "output_type": "execute_result"
    }
   ],
   "execution_count": 1
  },
  {
   "metadata": {},
   "cell_type": "markdown",
   "source": [
    "In this example, we create a `Fits` object. However, we needed to `import Path from pathlib`, which might seem to contradict the earlier statement: *\"Designed for simplicity and ease of use, `Fits` eliminates the need for external functions to modify or analyze a FITS file.\"*\n",
    "\n",
    "To address this, `Fits` offers three class methods to simplify object creation:\n",
    "1. From a file path provided as a string.\n",
    "2. From the data and header of a given FITS file.\n",
    "3. From a simple sample FITS file.\n",
    "\n",
    "These methods aim to make `Fits` flexible while maintaining its ease of use, reducing the need for additional imports in most scenarios.\n",
    "\n",
    "## from_path\n",
    "The `from_path` class method accepts the file path of a FITS file as a string and returns an instance of the `Fits` object."
   ],
   "id": "df6dc225cc7758c1"
  },
  {
   "metadata": {
    "ExecuteTime": {
     "end_time": "2024-09-13T11:47:15.659326Z",
     "start_time": "2024-09-13T11:47:15.656048Z"
    }
   },
   "cell_type": "code",
   "source": [
    "from myraflib import Fits\n",
    "\n",
    "fits = Fits.from_path(\"sample.fits\")\n",
    "fits"
   ],
   "id": "e4c523ecedc330e2",
   "outputs": [
    {
     "data": {
      "text/plain": [
       "Fits(@: '128554895149040', path:'sample.fits')"
      ]
     },
     "execution_count": 2,
     "metadata": {},
     "output_type": "execute_result"
    }
   ],
   "execution_count": 2
  },
  {
   "metadata": {},
   "cell_type": "markdown",
   "source": [
    "## from_data_header\n",
    "The `from_data_header` method allows creating a `Fits` object from an existing digital image, represented as a `numpy.ndarray`, and a corresponding header, represented as an `astropy.io.fits.header.Header` object."
   ],
   "id": "65f1d08739ad4f0c"
  },
  {
   "metadata": {
    "ExecuteTime": {
     "end_time": "2024-09-13T11:47:15.770201Z",
     "start_time": "2024-09-13T11:47:15.761827Z"
    }
   },
   "cell_type": "code",
   "source": [
    "from myraflib import Fits\n",
    "from astropy.io.fits.header import Header\n",
    "import numpy as np\n",
    "\n",
    "header = Header()\n",
    "data = (np.random.rand(128, 128) * 65535).astype(np.uint16)\n",
    "\n",
    "\n",
    "fits = Fits.from_data_header(data, header=header)\n",
    "fits"
   ],
   "id": "2df57a4d131b57b6",
   "outputs": [
    {
     "data": {
      "text/plain": [
       "Fits(@: '128557119700224', path:'/tmp/myraf_oxjykwv5.fits')"
      ]
     },
     "execution_count": 3,
     "metadata": {},
     "output_type": "execute_result"
    }
   ],
   "execution_count": 3
  },
  {
   "metadata": {},
   "cell_type": "markdown",
   "source": [
    "## sample\n",
    "Additionally, the `Fits` object can generate a sample FITS file for testing purposes, utilizing the data from its internal FITS file."
   ],
   "id": "3892e6fe65a8ee8b"
  },
  {
   "metadata": {
    "ExecuteTime": {
     "end_time": "2024-09-13T11:47:15.825221Z",
     "start_time": "2024-09-13T11:47:15.812287Z"
    }
   },
   "cell_type": "code",
   "source": [
    "from myraflib import Fits\n",
    "\n",
    "fits = Fits.sample()\n",
    "fits"
   ],
   "id": "76f69f18c10460a",
   "outputs": [
    {
     "data": {
      "text/plain": [
       "Fits(@: '128557119699456', path:'/tmp/myraf_x3_p2g2d.fits')"
      ]
     },
     "execution_count": 4,
     "metadata": {},
     "output_type": "execute_result"
    }
   ],
   "execution_count": 4
  },
  {
   "metadata": {
    "ExecuteTime": {
     "end_time": "2024-09-13T11:47:15.862261Z",
     "start_time": "2024-09-13T11:47:15.860678Z"
    }
   },
   "cell_type": "code",
   "source": "",
   "id": "d5f3bec60abb4d58",
   "outputs": [],
   "execution_count": null
  }
 ],
 "metadata": {
  "kernelspec": {
   "display_name": "Python 3",
   "language": "python",
   "name": "python3"
  },
  "language_info": {
   "codemirror_mode": {
    "name": "ipython",
    "version": 2
   },
   "file_extension": ".py",
   "mimetype": "text/x-python",
   "name": "python",
   "nbconvert_exporter": "python",
   "pygments_lexer": "ipython2",
   "version": "2.7.6"
  }
 },
 "nbformat": 4,
 "nbformat_minor": 5
}
