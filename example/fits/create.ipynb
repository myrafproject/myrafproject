{
 "cells": [
  {
   "cell_type": "code",
   "execution_count": 1,
   "id": "410f0eed-1a7e-4d0b-a892-b08946a45877",
   "metadata": {},
   "outputs": [],
   "source": [
    "from myraflib import Fits"
   ]
  },
  {
   "cell_type": "markdown",
   "id": "5ca788e5-aa6b-4926-b423-f99ee5ac2047",
   "metadata": {},
   "source": [
    "# Create a Fits object"
   ]
  },
  {
   "cell_type": "markdown",
   "id": "cc41ff87-2c92-4b0d-ae07-abd86c255b0c",
   "metadata": {},
   "source": [
    "There are several methods for creating a `FITS` object. The Fits class itself can directly accept a Path object that points to a `FITS` file."
   ]
  },
  {
   "cell_type": "code",
   "execution_count": 2,
   "id": "d3bf58c4-991d-4729-b05b-55be0520c8f1",
   "metadata": {},
   "outputs": [
    {
     "data": {
      "text/plain": [
       "Fits(@: '131858040146432', path:'sample.fits')"
      ]
     },
     "execution_count": 2,
     "metadata": {},
     "output_type": "execute_result"
    }
   ],
   "source": [
    "from pathlib import Path\n",
    "\n",
    "fits = Fits(Path(\"sample.fits\"))\n",
    "fits"
   ]
  },
  {
   "cell_type": "markdown",
   "id": "2aee31c1-c09d-4c20-ac26-aeb06a11bc06",
   "metadata": {},
   "source": [
    "## from_path\n",
    "Additionally, you can use the `from_path` class method to create a FITS object from a file path."
   ]
  },
  {
   "cell_type": "code",
   "execution_count": 3,
   "id": "ca7bedf7-da1b-4ad3-a0ad-81391114d202",
   "metadata": {},
   "outputs": [
    {
     "data": {
      "text/plain": [
       "Fits(@: '131858040206480', path:'sample.fits')"
      ]
     },
     "execution_count": 3,
     "metadata": {},
     "output_type": "execute_result"
    }
   ],
   "source": [
    "fits = Fits.from_path(\"sample.fits\")\n",
    "fits"
   ]
  },
  {
   "cell_type": "markdown",
   "id": "67908727-110a-432c-bb8d-e31f6da03426",
   "metadata": {},
   "source": [
    "## from_data_header\n",
    "or from data and header using `from_data_header`"
   ]
  },
  {
   "cell_type": "code",
   "execution_count": 4,
   "id": "5dc5c845-be21-44f9-9e84-8f78f43770b3",
   "metadata": {},
   "outputs": [
    {
     "data": {
      "text/plain": [
       "Fits(@: '131859508449968', path:'/tmp/spy_22dcwxot.fits')"
      ]
     },
     "execution_count": 4,
     "metadata": {},
     "output_type": "execute_result"
    }
   ],
   "source": [
    "import numpy as np\n",
    "\n",
    "fits = Fits.from_data_header(np.random.random((128, 128))* 256)\n",
    "fits"
   ]
  },
  {
   "cell_type": "markdown",
   "id": "45ee7ef7-d73d-48cb-b08c-2a5301036d21",
   "metadata": {},
   "source": [
    "## sample\n",
    "creates a sample fits object"
   ]
  },
  {
   "cell_type": "code",
   "execution_count": 5,
   "id": "d308adce-3da6-43d4-ad52-77a66465bdde",
   "metadata": {},
   "outputs": [
    {
     "data": {
      "text/plain": [
       "Fits(@: '131859509015024', path:'/tmp/spy_krhbkhl5.fits')"
      ]
     },
     "execution_count": 5,
     "metadata": {},
     "output_type": "execute_result"
    }
   ],
   "source": [
    "fits = Fits.sample()\n",
    "fits"
   ]
  },
  {
   "cell_type": "code",
   "execution_count": null,
   "id": "4d7541f9-9445-4ce6-bf28-ada57120ece3",
   "metadata": {},
   "outputs": [],
   "source": []
  }
 ],
 "metadata": {
  "kernelspec": {
   "display_name": "Python 3 (ipykernel)",
   "language": "python",
   "name": "python3"
  },
  "language_info": {
   "codemirror_mode": {
    "name": "ipython",
    "version": 3
   },
   "file_extension": ".py",
   "mimetype": "text/x-python",
   "name": "python",
   "nbconvert_exporter": "python",
   "pygments_lexer": "ipython3",
   "version": "3.8.19"
  }
 },
 "nbformat": 4,
 "nbformat_minor": 5
}
