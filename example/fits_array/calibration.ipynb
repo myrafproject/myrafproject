{
 "cells": [
  {
   "cell_type": "code",
   "execution_count": 1,
   "id": "391468f0-38a5-4156-bd08-5c45cc404a9d",
   "metadata": {},
   "outputs": [],
   "source": [
    "import warnings\n",
    "from astropy.utils.exceptions import AstropyWarning\n",
    "\n",
    "warnings.filterwarnings('ignore', category=AstropyWarning)"
   ]
  },
  {
   "cell_type": "markdown",
   "id": "5729b0f2-e57a-4024-a48f-e88767b75651",
   "metadata": {},
   "source": [
    "## EVERYTHING IS THE SAME AS Fits."
   ]
  }
 ],
 "metadata": {
  "kernelspec": {
   "display_name": "Python 3 (ipykernel)",
   "language": "python",
   "name": "python3"
  },
  "language_info": {
   "codemirror_mode": {
    "name": "ipython",
    "version": 3
   },
   "file_extension": ".py",
   "mimetype": "text/x-python",
   "name": "python",
   "nbconvert_exporter": "python",
   "pygments_lexer": "ipython3",
   "version": "3.8.19"
  }
 },
 "nbformat": 4,
 "nbformat_minor": 5
}
