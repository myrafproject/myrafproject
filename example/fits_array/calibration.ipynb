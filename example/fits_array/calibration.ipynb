{
 "cells": [
  {
   "metadata": {
    "ExecuteTime": {
     "end_time": "2024-09-13T11:48:48.230260Z",
     "start_time": "2024-09-13T11:48:48.225672Z"
    }
   },
   "cell_type": "code",
   "source": [
    "import warnings\n",
    "warnings.filterwarnings('ignore')"
   ],
   "id": "8fecdda3e86c10ab",
   "outputs": [],
   "execution_count": 1
  },
  {
   "metadata": {},
   "cell_type": "markdown",
   "source": [
    "# Calibration\n",
    "\n",
    "FITS files may not always are calibrated. Typically, there are three types of systematic errors that can affect a CCD-produced digital image: zero offset, dark current, and flat-field variations. The `Fits` class provides methods to correct for these errors, ensuring more accurate image data.\n",
    "Here’s a polished version for the `zero_correction` section:\n",
    "\n",
    "## zero_correction\n",
    "\n",
    "The `zero_correction` method provides an easy-to-use functionality for correcting zero offset errors in FITS images. This method adjusts for any constant bias present in the data, ensuring more accurate image calibration."
   ],
   "id": "8e685a95709dc218"
  },
  {
   "metadata": {
    "ExecuteTime": {
     "end_time": "2024-09-13T11:48:51.471935Z",
     "start_time": "2024-09-13T11:48:48.269541Z"
    }
   },
   "cell_type": "code",
   "source": [
    "from math import radians\n",
    "from myraflib import FitsArray\n",
    "\n",
    "fits_array = FitsArray.sample()\n",
    "zeros = FitsArray.sample(numer_of_samples=5)\n",
    "darks = FitsArray.sample(numer_of_samples=5)\n",
    "flats = FitsArray.sample(numer_of_samples=5)\n",
    "\n",
    "master_zero = zeros.zero_combine()\n",
    "master_dark = darks.dark_combine()\n",
    "master_flat = flats.flat_combine()\n"
   ],
   "id": "3ab2b139977b7aff",
   "outputs": [],
   "execution_count": 2
  },
  {
   "metadata": {},
   "cell_type": "markdown",
   "source": [
    "## zero_correction\n",
    "\n",
    "The `zero_correction` method provides an easy-to-use functionality for correcting zero offset errors in FITS images. This method adjusts for any constant bias present in the data, ensuring more accurate image calibration."
   ],
   "id": "f9ef6287025999bb"
  },
  {
   "metadata": {
    "ExecuteTime": {
     "end_time": "2024-09-13T11:48:51.636505Z",
     "start_time": "2024-09-13T11:48:51.503109Z"
    }
   },
   "cell_type": "code",
   "source": [
    "zero_corrected = fits_array.zero_correction(master_zero)\n",
    "zero_corrected"
   ],
   "id": "be27a72d7c50c337",
   "outputs": [
    {
     "data": {
      "text/plain": [
       "FitsArray(@: '136387160583392', nof:'10')"
      ]
     },
     "execution_count": 3,
     "metadata": {},
     "output_type": "execute_result"
    }
   ],
   "execution_count": 3
  },
  {
   "metadata": {},
   "cell_type": "markdown",
   "source": [
    "## dark_correction\n",
    "\n",
    "The `dark_correction` method compensates for dark current errors in FITS images. Similar to the `zero_correction` method, it adjusts the data to account for any signal that is present due to the CCD’s thermal noise, improving the accuracy of the calibration.\n"
   ],
   "id": "80e586d7c1e9b1f7"
  },
  {
   "metadata": {
    "ExecuteTime": {
     "end_time": "2024-09-13T11:48:51.789793Z",
     "start_time": "2024-09-13T11:48:51.643766Z"
    }
   },
   "cell_type": "code",
   "source": [
    "dark_corrected = fits_array.dark_correction(master_dark)\n",
    "dark_corrected"
   ],
   "id": "8bc885b9722c60b4",
   "outputs": [
    {
     "data": {
      "text/plain": [
       "FitsArray(@: '136387158294480', nof:'10')"
      ]
     },
     "execution_count": 4,
     "metadata": {},
     "output_type": "execute_result"
    }
   ],
   "execution_count": 4
  },
  {
   "metadata": {},
   "cell_type": "markdown",
   "source": "Since we dark corrected the fits image with itself, an all zero image is expected.",
   "id": "8142ae46225bfe70"
  },
  {
   "metadata": {},
   "cell_type": "markdown",
   "source": [
    "## flat_correction\n",
    "\n",
    "The `flat_correction` method addresses flat-field variations in FITS images. Like the `zero_correction` method, it adjusts the data to correct for uneven illumination across the image, ensuring more accurate calibration by normalizing pixel responses."
   ],
   "id": "b0b6151c40b7354a"
  },
  {
   "metadata": {
    "ExecuteTime": {
     "end_time": "2024-09-13T11:48:51.946161Z",
     "start_time": "2024-09-13T11:48:51.796339Z"
    }
   },
   "cell_type": "code",
   "source": [
    "flat_corrected = fits_array.flat_correction(master_flat)\n",
    "flat_corrected"
   ],
   "id": "a1d67524e7927d78",
   "outputs": [
    {
     "data": {
      "text/plain": [
       "FitsArray(@: '136387158294288', nof:'10')"
      ]
     },
     "execution_count": 5,
     "metadata": {},
     "output_type": "execute_result"
    }
   ],
   "execution_count": 5
  },
  {
   "metadata": {},
   "cell_type": "markdown",
   "source": [
    "Since we flat corrected the fits image with itself, an all the same image is expected.\n",
    "\n",
    "## ccdproc\n",
    "\n",
    "The `ccdproc` method integrates all three correction types—zero correction, dark correction, and flat correction—into a single, versatile function. This method allows for any combination of these corrections, providing a comprehensive approach to calibrating FITS images by addressing zero offset, dark current, and flat-field variations.\n"
   ],
   "id": "f07c7a197cc26216"
  },
  {
   "metadata": {
    "ExecuteTime": {
     "end_time": "2024-09-13T11:48:52.092228Z",
     "start_time": "2024-09-13T11:48:51.953450Z"
    }
   },
   "cell_type": "code",
   "source": [
    "zero_corrected = fits_array.ccdproc(master_zero=master_zero)\n",
    "zero_corrected"
   ],
   "id": "83df4f02c8b72f97",
   "outputs": [
    {
     "data": {
      "text/plain": [
       "FitsArray(@: '136387160582336', nof:'10')"
      ]
     },
     "execution_count": 6,
     "metadata": {},
     "output_type": "execute_result"
    }
   ],
   "execution_count": 6
  },
  {
   "metadata": {
    "ExecuteTime": {
     "end_time": "2024-09-13T11:48:52.296263Z",
     "start_time": "2024-09-13T11:48:52.099075Z"
    }
   },
   "cell_type": "code",
   "source": [
    "dark_corrected = fits_array.ccdproc(master_dark=master_dark)\n",
    "dark_corrected"
   ],
   "id": "35f9dfc62b9d3f42",
   "outputs": [
    {
     "data": {
      "text/plain": [
       "FitsArray(@: '136387156509936', nof:'10')"
      ]
     },
     "execution_count": 7,
     "metadata": {},
     "output_type": "execute_result"
    }
   ],
   "execution_count": 7
  },
  {
   "metadata": {
    "ExecuteTime": {
     "end_time": "2024-09-13T11:48:52.518503Z",
     "start_time": "2024-09-13T11:48:52.302777Z"
    }
   },
   "cell_type": "code",
   "source": [
    "flat_corrected = fits_array.ccdproc(master_flat=master_flat)\n",
    "flat_corrected"
   ],
   "id": "cc7a80c16fbdc8cd",
   "outputs": [
    {
     "data": {
      "text/plain": [
       "FitsArray(@: '136387156517568', nof:'10')"
      ]
     },
     "execution_count": 8,
     "metadata": {},
     "output_type": "execute_result"
    }
   ],
   "execution_count": 8
  },
  {
   "metadata": {
    "ExecuteTime": {
     "end_time": "2024-09-13T11:48:52.722079Z",
     "start_time": "2024-09-13T11:48:52.523844Z"
    }
   },
   "cell_type": "code",
   "source": [
    "zero_dark_corrected = fits_array.ccdproc(master_zero=master_zero, master_dark=master_dark)\n",
    "zero_dark_corrected"
   ],
   "id": "90923c4b31cdd395",
   "outputs": [
    {
     "data": {
      "text/plain": [
       "FitsArray(@: '136387157059296', nof:'10')"
      ]
     },
     "execution_count": 9,
     "metadata": {},
     "output_type": "execute_result"
    }
   ],
   "execution_count": 9
  },
  {
   "metadata": {
    "ExecuteTime": {
     "end_time": "2024-09-13T11:48:52.982169Z",
     "start_time": "2024-09-13T11:48:52.727176Z"
    }
   },
   "cell_type": "code",
   "source": [
    "zero_flat_corrected = fits_array.ccdproc(master_zero=master_zero, master_flat=master_flat)\n",
    "zero_flat_corrected"
   ],
   "id": "8fa091b80b72f2db",
   "outputs": [
    {
     "data": {
      "text/plain": [
       "FitsArray(@: '136384915131024', nof:'10')"
      ]
     },
     "execution_count": 10,
     "metadata": {},
     "output_type": "execute_result"
    }
   ],
   "execution_count": 10
  },
  {
   "metadata": {
    "ExecuteTime": {
     "end_time": "2024-09-13T11:48:52.989838Z",
     "start_time": "2024-09-13T11:48:52.988347Z"
    }
   },
   "cell_type": "code",
   "source": "",
   "id": "e75c148c5d210679",
   "outputs": [],
   "execution_count": null
  }
 ],
 "metadata": {
  "kernelspec": {
   "display_name": "Python 3",
   "language": "python",
   "name": "python3"
  },
  "language_info": {
   "codemirror_mode": {
    "name": "ipython",
    "version": 2
   },
   "file_extension": ".py",
   "mimetype": "text/x-python",
   "name": "python",
   "nbconvert_exporter": "python",
   "pygments_lexer": "ipython2",
   "version": "2.7.6"
  }
 },
 "nbformat": 4,
 "nbformat_minor": 5
}
