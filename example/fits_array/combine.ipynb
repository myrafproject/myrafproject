{
 "cells": [
  {
   "cell_type": "code",
   "id": "initial_id",
   "metadata": {
    "collapsed": true,
    "ExecuteTime": {
     "end_time": "2024-09-13T11:49:01.476636Z",
     "start_time": "2024-09-13T11:49:01.472164Z"
    }
   },
   "source": [
    "import warnings\n",
    "warnings.filterwarnings('ignore')"
   ],
   "outputs": [],
   "execution_count": 1
  },
  {
   "metadata": {},
   "cell_type": "markdown",
   "source": [
    "## Combine\n",
    "\n",
    "The `FitsArray` class offers various methods for combining FITS files to generate master images. These methods include:\n",
    "\n",
    "- **`combine`**: A general-purpose method for combining FITS images.\n",
    "- **`zerocombine`**: Specifically designed to create a master zero image.\n",
    "- **`darkcombine`**: Used to generate a master dark image.\n",
    "- **`flatcombine`**: Creates a master flat image.\n",
    "\n",
    "These methods facilitate the creation of essential calibration images in astronomical photometry.\n",
    "\n",
    "## combine"
   ],
   "id": "9c34ec49672f9651"
  },
  {
   "metadata": {
    "ExecuteTime": {
     "end_time": "2024-09-13T11:49:03.034793Z",
     "start_time": "2024-09-13T11:49:01.515626Z"
    }
   },
   "cell_type": "code",
   "source": [
    "from myraflib import FitsArray\n",
    "\n",
    "fits_array = FitsArray.sample()\n",
    "fits_array"
   ],
   "id": "3469193f9b6c7dab",
   "outputs": [
    {
     "data": {
      "text/plain": [
       "FitsArray(@: '139411420211968', nof:'10')"
      ]
     },
     "execution_count": 2,
     "metadata": {},
     "output_type": "execute_result"
    }
   ],
   "execution_count": 2
  },
  {
   "metadata": {
    "ExecuteTime": {
     "end_time": "2024-09-13T11:49:03.461947Z",
     "start_time": "2024-09-13T11:49:03.109018Z"
    }
   },
   "cell_type": "code",
   "source": [
    "combined = fits_array.combine()\n",
    "combined"
   ],
   "id": "ec647e76041d61c2",
   "outputs": [
    {
     "data": {
      "text/plain": [
       "Fits(@: '139411426954352', path:'/tmp/myraf_b04jvks5.fits')"
      ]
     },
     "execution_count": 3,
     "metadata": {},
     "output_type": "execute_result"
    }
   ],
   "execution_count": 3
  },
  {
   "metadata": {},
   "cell_type": "markdown",
   "source": "## zerocombine",
   "id": "6ac1176af40f8a5b"
  },
  {
   "metadata": {
    "ExecuteTime": {
     "end_time": "2024-09-13T11:49:04.556577Z",
     "start_time": "2024-09-13T11:49:03.522738Z"
    }
   },
   "cell_type": "code",
   "source": [
    "master_zero = fits_array.zero_combine()\n",
    "master_zero"
   ],
   "id": "2aca5005ed655a1d",
   "outputs": [
    {
     "data": {
      "text/plain": [
       "Fits(@: '139411419881648', path:'/tmp/myraf_ey_giucn.fits')"
      ]
     },
     "execution_count": 4,
     "metadata": {},
     "output_type": "execute_result"
    }
   ],
   "execution_count": 4
  },
  {
   "metadata": {},
   "cell_type": "markdown",
   "source": "## darkcombine",
   "id": "2ea31e72348e7f34"
  },
  {
   "metadata": {
    "ExecuteTime": {
     "end_time": "2024-09-13T11:49:05.512226Z",
     "start_time": "2024-09-13T11:49:04.617054Z"
    }
   },
   "cell_type": "code",
   "source": [
    "master_dark = fits_array.dark_combine()\n",
    "master_dark"
   ],
   "id": "5a93024802a5deb0",
   "outputs": [
    {
     "data": {
      "text/plain": [
       "Fits(@: '139411419875504', path:'/tmp/myraf_bmbh7r7o.fits')"
      ]
     },
     "execution_count": 5,
     "metadata": {},
     "output_type": "execute_result"
    }
   ],
   "execution_count": 5
  },
  {
   "metadata": {},
   "cell_type": "markdown",
   "source": "## flat combine",
   "id": "a626cbd70433af26"
  },
  {
   "metadata": {
    "ExecuteTime": {
     "end_time": "2024-09-13T11:49:06.474088Z",
     "start_time": "2024-09-13T11:49:05.554096Z"
    }
   },
   "cell_type": "code",
   "source": [
    "master_flat = fits_array.flat_combine()\n",
    "master_flat"
   ],
   "id": "f03fb28de48f1716",
   "outputs": [
    {
     "data": {
      "text/plain": [
       "Fits(@: '139411426957376', path:'/tmp/myraf_ph0ba60k.fits')"
      ]
     },
     "execution_count": 6,
     "metadata": {},
     "output_type": "execute_result"
    }
   ],
   "execution_count": 6
  },
  {
   "metadata": {
    "ExecuteTime": {
     "end_time": "2024-09-13T11:49:06.480150Z",
     "start_time": "2024-09-13T11:49:06.478864Z"
    }
   },
   "cell_type": "code",
   "source": "",
   "id": "1fbbcd092496d1f2",
   "outputs": [],
   "execution_count": null
  }
 ],
 "metadata": {
  "kernelspec": {
   "display_name": "Python 3",
   "language": "python",
   "name": "python3"
  },
  "language_info": {
   "codemirror_mode": {
    "name": "ipython",
    "version": 2
   },
   "file_extension": ".py",
   "mimetype": "text/x-python",
   "name": "python",
   "nbconvert_exporter": "python",
   "pygments_lexer": "ipython2",
   "version": "2.7.6"
  }
 },
 "nbformat": 4,
 "nbformat_minor": 5
}
