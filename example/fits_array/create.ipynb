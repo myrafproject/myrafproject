{
 "cells": [
  {
   "metadata": {
    "ExecuteTime": {
     "end_time": "2024-09-13T11:49:07.505212Z",
     "start_time": "2024-09-13T11:49:07.500078Z"
    }
   },
   "cell_type": "code",
   "source": [
    "import warnings\n",
    "warnings.filterwarnings('ignore')"
   ],
   "id": "b95b801106e2981b",
   "outputs": [],
   "execution_count": 1
  },
  {
   "metadata": {},
   "cell_type": "markdown",
   "source": [
    "# What is `FitsArray` object?\n",
    "\n",
    "Did you like `Fits` object. What if we could put them in a list and expect same functionalities and maybe more? Here we have `FitsArray`."
   ],
   "id": "b13f61fea543f6fd"
  },
  {
   "metadata": {
    "ExecuteTime": {
     "end_time": "2024-09-13T11:49:09.068278Z",
     "start_time": "2024-09-13T11:49:07.543218Z"
    }
   },
   "cell_type": "code",
   "source": [
    "from myraflib import FitsArray, Fits\n",
    "fits_array = FitsArray(\n",
    "    [Fits.sample().shift(i*10, i*10) for i in range(10)],\n",
    ")\n",
    "fits_array"
   ],
   "id": "75bb301e5ac11fb6",
   "outputs": [
    {
     "data": {
      "text/plain": [
       "FitsArray(@: '138260397039792', nof:'10')"
      ]
     },
     "execution_count": 2,
     "metadata": {},
     "output_type": "execute_result"
    }
   ],
   "execution_count": 2
  },
  {
   "metadata": {},
   "cell_type": "markdown",
   "source": [
    "## from_paths\n",
    "The `from_paths` class method accepts the file paths of any number of FITS files as a list of strings and returns an instance of the `FitsArray` object."
   ],
   "id": "df6dc225cc7758c1"
  },
  {
   "metadata": {
    "ExecuteTime": {
     "end_time": "2024-09-13T11:49:09.139951Z",
     "start_time": "2024-09-13T11:49:09.135445Z"
    }
   },
   "cell_type": "code",
   "source": [
    "from myraflib import FitsArray\n",
    "\n",
    "fits_array = FitsArray.from_paths([\"sample.fits\", \"sample.fits\", \"sample.fits\", \"sample.fits\"])\n",
    "fits_array"
   ],
   "id": "e4c523ecedc330e2",
   "outputs": [
    {
     "data": {
      "text/plain": [
       "FitsArray(@: '138260397034416', nof:'4')"
      ]
     },
     "execution_count": 3,
     "metadata": {},
     "output_type": "execute_result"
    }
   ],
   "execution_count": 3
  },
  {
   "metadata": {},
   "cell_type": "markdown",
   "source": [
    "## from_pattern\n",
    "The `from_pattern` method allows creating a `FitsArray` object from a given pattern that `glob.glob` understands."
   ],
   "id": "65f1d08739ad4f0c"
  },
  {
   "metadata": {
    "ExecuteTime": {
     "end_time": "2024-09-13T11:49:09.244453Z",
     "start_time": "2024-09-13T11:49:09.239404Z"
    }
   },
   "cell_type": "code",
   "source": [
    "from myraflib import FitsArray\n",
    "\n",
    "fits_array = FitsArray.from_pattern(\"./*.fits\")\n",
    "fits_array"
   ],
   "id": "2df57a4d131b57b6",
   "outputs": [
    {
     "data": {
      "text/plain": [
       "FitsArray(@: '138260401424848', nof:'1')"
      ]
     },
     "execution_count": 4,
     "metadata": {},
     "output_type": "execute_result"
    }
   ],
   "execution_count": 4
  },
  {
   "metadata": {},
   "cell_type": "markdown",
   "source": [
    "## sample\n",
    "Additionally, the `FitsArray` object can generate a list of sample FITS files for testing purposes, utilizing the data from its internal FITS file."
   ],
   "id": "3892e6fe65a8ee8b"
  },
  {
   "metadata": {
    "ExecuteTime": {
     "end_time": "2024-09-13T11:49:09.686372Z",
     "start_time": "2024-09-13T11:49:09.290962Z"
    }
   },
   "cell_type": "code",
   "source": [
    "from myraflib import FitsArray\n",
    "\n",
    "fits_array = FitsArray.sample()\n",
    "fits_array"
   ],
   "id": "76f69f18c10460a",
   "outputs": [
    {
     "data": {
      "text/plain": [
       "FitsArray(@: '138258169757552', nof:'10')"
      ]
     },
     "execution_count": 5,
     "metadata": {},
     "output_type": "execute_result"
    }
   ],
   "execution_count": 5
  },
  {
   "metadata": {},
   "cell_type": "markdown",
   "source": "The `FitsArray` object is iterable, which means you can use it in a `for` loop or access elements by index to retrieve a specific `Fits` object. Additionally, if you provide a slice, a new `FitsArray` object may be returned containing the specified range of `Fits` objects.",
   "id": "12bb18a2e6fd6181"
  },
  {
   "metadata": {
    "ExecuteTime": {
     "end_time": "2024-09-13T11:49:09.693543Z",
     "start_time": "2024-09-13T11:49:09.691032Z"
    }
   },
   "cell_type": "code",
   "source": [
    "for fits in fits_array:\n",
    "    print(fits)\n"
   ],
   "id": "c7e3546e394d57e9",
   "outputs": [
    {
     "name": "stdout",
     "output_type": "stream",
     "text": [
      "Fits(@: '138258167139584', path:'/tmp/myraf_dtw1uxgy.fits')\n",
      "Fits(@: '138258167138720', path:'/tmp/myraf_9izd7fhv.fits')\n",
      "Fits(@: '138258167137040', path:'/tmp/myraf_wehmfvdr.fits')\n",
      "Fits(@: '138258166951712', path:'/tmp/myraf_jn0r0lw6.fits')\n",
      "Fits(@: '138258167140784', path:'/tmp/myraf_h9_80_dl.fits')\n",
      "Fits(@: '138258166950128', path:'/tmp/myraf_m70bo9b6.fits')\n",
      "Fits(@: '138258167142512', path:'/tmp/myraf_kfugti0p.fits')\n",
      "Fits(@: '138258166945952', path:'/tmp/myraf_78wm5w7q.fits')\n",
      "Fits(@: '138258167142368', path:'/tmp/myraf_n4o9omz0.fits')\n",
      "Fits(@: '138258166954256', path:'/tmp/myraf_hmfh3onx.fits')\n"
     ]
    }
   ],
   "execution_count": 6
  },
  {
   "metadata": {
    "ExecuteTime": {
     "end_time": "2024-09-13T11:49:09.738895Z",
     "start_time": "2024-09-13T11:49:09.735791Z"
    }
   },
   "cell_type": "code",
   "source": [
    "fits = fits_array[0]\n",
    "fits"
   ],
   "id": "fa9e87282503a189",
   "outputs": [
    {
     "data": {
      "text/plain": [
       "Fits(@: '138258167139584', path:'/tmp/myraf_dtw1uxgy.fits')"
      ]
     },
     "execution_count": 7,
     "metadata": {},
     "output_type": "execute_result"
    }
   ],
   "execution_count": 7
  },
  {
   "metadata": {
    "ExecuteTime": {
     "end_time": "2024-09-13T11:49:09.784638Z",
     "start_time": "2024-09-13T11:49:09.783121Z"
    }
   },
   "cell_type": "code",
   "source": "",
   "id": "75000220fb0d1a66",
   "outputs": [],
   "execution_count": null
  }
 ],
 "metadata": {
  "kernelspec": {
   "display_name": "Python 3",
   "language": "python",
   "name": "python3"
  },
  "language_info": {
   "codemirror_mode": {
    "name": "ipython",
    "version": 2
   },
   "file_extension": ".py",
   "mimetype": "text/x-python",
   "name": "python",
   "nbconvert_exporter": "python",
   "pygments_lexer": "ipython2",
   "version": "2.7.6"
  }
 },
 "nbformat": 4,
 "nbformat_minor": 5
}
